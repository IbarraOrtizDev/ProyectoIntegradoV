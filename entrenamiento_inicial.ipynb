{
 "cells": [
  {
   "cell_type": "code",
   "execution_count": 1,
   "metadata": {},
   "outputs": [],
   "source": [
    "import pandas as pd\n",
    "import numpy as np\n",
    "from sklearn.linear_model import LogisticRegression\n",
    "from sklearn.ensemble import RandomForestClassifier\n",
    "from sklearn.metrics import accuracy_score, roc_auc_score, f1_score\n",
    "import matplotlib.pyplot as plt\n",
    "import seaborn as sns\n",
    "from datetime import datetime\n",
    "from xgboost import XGBClassifier\n",
    "import os\n",
    "from src.logger import LoggerService"
   ]
  },
  {
   "cell_type": "code",
   "execution_count": 3,
   "metadata": {},
   "outputs": [],
   "source": [
    "def enriquecer_datos(df, logger: LoggerService):\n",
    "    \"\"\"\n",
    "    Enriquece los datos con variables adicionales y transformaciones.\n",
    "    \n",
    "    Args:\n",
    "        df (pd.DataFrame): DataFrame con los datos históricos\n",
    "        \n",
    "    Returns:\n",
    "        pd.DataFrame: DataFrame enriquecido con nuevas características\n",
    "    \"\"\"\n",
    "    logger.info(\"Iniciando proceso de enriquecimiento de datos\")\n",
    "    \n",
    "    try:\n",
    "        # Convertir fecha a datetime si no lo es (solo fecha, no hora)\n",
    "        logger.info(\"Convirtiendo columna date a datetime\")\n",
    "        df['date'] =  pd.to_datetime(df['date'])\n",
    "        \n",
    "        # Variables temporales\n",
    "        logger.info(\"Generando variables temporales\")\n",
    "        df['day_of_week'] = df['date'].dt.dayofweek\n",
    "        df['month'] = df['date'].dt.month\n",
    "        df['year'] = df['date'].dt.year\n",
    "        df['quarter'] = df['date'].dt.quarter\n",
    "        \n",
    "        # Retornos\n",
    "        logger.info(\"Calculando retornos\")\n",
    "        df['returns'] = df['close'].pct_change()\n",
    "        df['returns_prev_day'] = df['returns'].shift(1)\n",
    "        \n",
    "        # Volatilidad móvil (20 días)\n",
    "        logger.info(\"Calculando volatilidad móvil de 20 días\")\n",
    "        df['volatility_20d'] = df['returns'].rolling(window=20).std()\n",
    "        \n",
    "        # Medias móviles\n",
    "        logger.info(\"Calculando medias móviles\")\n",
    "        df['sma_20'] = df['close'].rolling(window=20).mean()\n",
    "        df['sma_50'] = df['close'].rolling(window=50).mean()\n",
    "        \n",
    "        # RSI (Relative Strength Index)\n",
    "        logger.info(\"Calculando RSI\")\n",
    "        delta = df['close'].diff()\n",
    "        gain = (delta.where(delta > 0, 0)).rolling(window=14).mean()\n",
    "        loss = (-delta.where(delta < 0, 0)).rolling(window=14).mean()\n",
    "        rs = gain / loss\n",
    "        df['rsi'] = 100 - (100 / (1 + rs))\n",
    "        \n",
    "        # Variable objetivo\n",
    "        logger.info(\"Generando variable objetivo\")\n",
    "        df['target'] = (df['close'] > df['close'].shift(1)).astype(int)\n",
    "        \n",
    "        # Eliminar filas con NaN\n",
    "        logger.info(\"Eliminando filas con valores NaN\")\n",
    "        df_original_len = len(df)\n",
    "        df = df.dropna()\n",
    "        df_final_len = len(df)\n",
    "        logger.info(f\"Filas eliminadas: {df_original_len - df_final_len}\")\n",
    "        \n",
    "        logger.info(\"Proceso de enriquecimiento completado exitosamente\")\n",
    "        return df\n",
    "        \n",
    "    except Exception as e:\n",
    "        logger.error(f\"Error en el proceso de enriquecimiento: {str(e)}\")\n",
    "        raise\n",
    "\n",
    "def obtener_features(logger: LoggerService):\n",
    "    \"\"\"\n",
    "    Retorna la lista de features utilizadas para el modelo.\n",
    "    \n",
    "    Returns:\n",
    "        list: Lista de nombres de features\n",
    "    \"\"\"\n",
    "    logger.info(\"Obteniendo lista de features para el modelo\")\n",
    "    features = [\n",
    "        'returns_prev_day',\n",
    "        'volatility_20d',\n",
    "        'sma_20',\n",
    "        'sma_50',\n",
    "        'rsi',\n",
    "        'day_of_week',\n",
    "        'month',\n",
    "        'quarter'\n",
    "    ]\n",
    "    logger.info(f\"Features seleccionadas: {', '.join(features)}\")\n",
    "    return features"
   ]
  },
  {
   "cell_type": "code",
   "execution_count": 4,
   "metadata": {},
   "outputs": [],
   "source": [
    "def realizar_eda(df, logger: LoggerService, save_path='src/static/eda/'):\n",
    "    \"\"\"\n",
    "    Realiza análisis exploratorio de datos y guarda visualizaciones\n",
    "    \"\"\"\n",
    "    logger.info(\"Iniciando análisis exploratorio de datos (EDA)\")\n",
    "    \n",
    "    try:\n",
    "        # Crear directorio si no existe\n",
    "        logger.info(f\"Creando directorio para visualizaciones: {save_path}\")\n",
    "        os.makedirs(save_path, exist_ok=True)\n",
    "        \n",
    "        # Distribución de la variable objetivo\n",
    "        logger.info(\"Generando gráfico de distribución de la variable objetivo\")\n",
    "        plt.figure(figsize=(10, 6))\n",
    "        sns.countplot(data=df, x='target')\n",
    "        plt.title('Distribución de Movimientos de Precio')\n",
    "        plt.savefig(f'{save_path}distribucion_target.png')\n",
    "        plt.close()\n",
    "        \n",
    "        # Correlación entre variables\n",
    "        logger.info(\"Generando matriz de correlación\")\n",
    "        plt.figure(figsize=(12, 8))\n",
    "        correlation_matrix = df.select_dtypes(include=[np.number]).corr()\n",
    "        sns.heatmap(correlation_matrix, annot=True, cmap='coolwarm', center=0)\n",
    "        plt.title('Matriz de Correlación')\n",
    "        plt.tight_layout()\n",
    "        plt.savefig(f'{save_path}correlacion.png')\n",
    "        plt.close()\n",
    "        \n",
    "        # Series temporales\n",
    "        logger.info(\"Generando gráfico de serie temporal\")\n",
    "        plt.figure(figsize=(15, 6))\n",
    "        plt.plot(df['date'], df['close'])\n",
    "        plt.title('Evolución del Precio de Cierre')\n",
    "        plt.xticks(rotation=45)\n",
    "        plt.tight_layout()\n",
    "        plt.savefig(f'{save_path}serie_temporal.png')\n",
    "        plt.close()\n",
    "        \n",
    "        # Guardar estadísticas descriptivas\n",
    "        logger.info(\"Guardando estadísticas descriptivas\")\n",
    "        stats = df.describe()\n",
    "        stats.to_csv(f'{save_path}estadisticas_descriptivas.csv')\n",
    "        \n",
    "        logger.info(\"EDA completado exitosamente\")\n",
    "        \n",
    "    except Exception as e:\n",
    "        logger.error(f\"Error durante el EDA: {str(e)}\")\n",
    "        raise"
   ]
  },
  {
   "cell_type": "code",
   "execution_count": 5,
   "metadata": {},
   "outputs": [
    {
     "name": "stdout",
     "output_type": "stream",
     "text": [
      "Ruta de logs configurada: src/logs\n",
      "Directorio de logs creado/verificado en: src/logs\n",
      "Archivo de log configurado: src/logs/log_2025-05-24.txt\n",
      "Logger configurado exitosamente\n"
     ]
    }
   ],
   "source": [
    "logger = LoggerService()"
   ]
  },
  {
   "cell_type": "code",
   "execution_count": 6,
   "metadata": {},
   "outputs": [],
   "source": [
    "\"\"\"\n",
    "Entrena el modelo y lo guarda como model.pkl\n",
    "\"\"\"\n",
    "logger.info(\"Iniciando proceso de entrenamiento del modelo\")\n",
    "\n",
    "# Cargar datos\n",
    "logger.info(\"Cargando datos históricos\")\n",
    "df = pd.read_csv('src/static/data/historical.csv')"
   ]
  },
  {
   "cell_type": "code",
   "execution_count": 7,
   "metadata": {},
   "outputs": [],
   "source": [
    "# Enriquecer datos\n",
    "logger.info(\"Enriqueciendo datos\")\n",
    "df = enriquecer_datos(df, logger)"
   ]
  },
  {
   "cell_type": "code",
   "execution_count": 8,
   "metadata": {},
   "outputs": [],
   "source": [
    "df['date'] = pd.to_datetime(df['date']).dt.date\n",
    "df_sorted = df.sort_values('date').reset_index(drop=True)"
   ]
  },
  {
   "cell_type": "code",
   "execution_count": 9,
   "metadata": {},
   "outputs": [],
   "source": [
    "# Realizar EDA\n",
    "logger.info(\"Realizando análisis exploratorio\")\n",
    "realizar_eda(df, logger)"
   ]
  },
  {
   "cell_type": "code",
   "execution_count": 10,
   "metadata": {},
   "outputs": [],
   "source": [
    "# Preparar features\n",
    "logger.info(\"Preparando features para el modelo\")\n",
    "features = obtener_features(logger)\n",
    "X = df[features]\n",
    "y = df['target']"
   ]
  },
  {
   "cell_type": "code",
   "execution_count": 11,
   "metadata": {},
   "outputs": [],
   "source": [
    "split_idx = int(len(df_sorted) * 0.8)\n",
    "train_data = df_sorted.iloc[:split_idx]\n",
    "test_data = df_sorted.iloc[split_idx:]\n",
    "\n",
    "X_train = train_data[features]\n",
    "y_train = train_data['target']\n",
    "X_test = test_data[features]\n",
    "y_test = test_data['target']"
   ]
  },
  {
   "cell_type": "code",
   "execution_count": 12,
   "metadata": {},
   "outputs": [
    {
     "name": "stdout",
     "output_type": "stream",
     "text": [
      "Datos de entrenamiento: 240 muestras\n",
      "Datos de prueba: 61 muestras\n",
      "Fecha límite entrenamiento: 2025-02-26\n",
      "Fecha inicio prueba: 2025-02-27\n",
      "\n"
     ]
    }
   ],
   "source": [
    "print(f\"Datos de entrenamiento: {len(X_train)} muestras\")\n",
    "print(f\"Datos de prueba: {len(X_test)} muestras\")\n",
    "print(f\"Fecha límite entrenamiento: {train_data['date'].max()}\")\n",
    "print(f\"Fecha inicio prueba: {test_data['date'].min()}\\n\")\n"
   ]
  },
  {
   "cell_type": "code",
   "execution_count": 13,
   "metadata": {},
   "outputs": [
    {
     "name": "stdout",
     "output_type": "stream",
     "text": [
      "1. Análisis de distribución de clases:\n",
      "Train - Distribución: {1: 123, 0: 117}\n",
      "Test - Distribución: {1: 32, 0: 29}\n",
      "Train - Proporción clase 1: 0.512\n",
      "Test - Proporción clase 1: 0.525\n",
      "\n"
     ]
    }
   ],
   "source": [
    "# 1. ANÁLISIS DE LA DISTRIBUCIÓN DE CLASES\n",
    "print(\"1. Análisis de distribución de clases:\")\n",
    "print(f\"Train - Distribución: {y_train.value_counts().to_dict()}\")\n",
    "print(f\"Test - Distribución: {y_test.value_counts().to_dict()}\")\n",
    "print(f\"Train - Proporción clase 1: {y_train.mean():.3f}\")\n",
    "print(f\"Test - Proporción clase 1: {y_test.mean():.3f}\\n\")"
   ]
  },
  {
   "cell_type": "code",
   "execution_count": 14,
   "metadata": {},
   "outputs": [
    {
     "name": "stdout",
     "output_type": "stream",
     "text": [
      "2. Análisis de correlaciones:\n",
      "Correlaciones altas (>0.7) entre features:\n",
      "sma_20 vs sma_50: 0.970\n",
      "month vs quarter: 0.971\n"
     ]
    }
   ],
   "source": [
    "# 2. ANÁLISIS DE CORRELACIONES ENTRE FEATURES\n",
    "print(\"2. Análisis de correlaciones:\")\n",
    "correlation_matrix = X_train.corr()\n",
    "print(\"Correlaciones altas (>0.7) entre features:\")\n",
    "high_corr = np.where(np.abs(correlation_matrix) > 0.7)\n",
    "for i, j in zip(high_corr[0], high_corr[1]):\n",
    "    if i < j:  # Evitar duplicados\n",
    "        print(f\"{correlation_matrix.index[i]} vs {correlation_matrix.columns[j]}: {correlation_matrix.iloc[i,j]:.3f}\")\n"
   ]
  },
  {
   "cell_type": "code",
   "execution_count": 15,
   "metadata": {},
   "outputs": [
    {
     "data": {
      "text/html": [
       "<div>\n",
       "<style scoped>\n",
       "    .dataframe tbody tr th:only-of-type {\n",
       "        vertical-align: middle;\n",
       "    }\n",
       "\n",
       "    .dataframe tbody tr th {\n",
       "        vertical-align: top;\n",
       "    }\n",
       "\n",
       "    .dataframe thead th {\n",
       "        text-align: right;\n",
       "    }\n",
       "</style>\n",
       "<table border=\"1\" class=\"dataframe\">\n",
       "  <thead>\n",
       "    <tr style=\"text-align: right;\">\n",
       "      <th></th>\n",
       "      <th>returns_prev_day</th>\n",
       "      <th>volatility_20d</th>\n",
       "      <th>sma_20</th>\n",
       "      <th>sma_50</th>\n",
       "      <th>rsi</th>\n",
       "      <th>day_of_week</th>\n",
       "      <th>month</th>\n",
       "      <th>quarter</th>\n",
       "    </tr>\n",
       "  </thead>\n",
       "  <tbody>\n",
       "    <tr>\n",
       "      <th>returns_prev_day</th>\n",
       "      <td>1.000000</td>\n",
       "      <td>-0.035972</td>\n",
       "      <td>-0.056961</td>\n",
       "      <td>-0.047021</td>\n",
       "      <td>0.218311</td>\n",
       "      <td>0.060449</td>\n",
       "      <td>0.031839</td>\n",
       "      <td>0.022469</td>\n",
       "    </tr>\n",
       "    <tr>\n",
       "      <th>volatility_20d</th>\n",
       "      <td>-0.035972</td>\n",
       "      <td>1.000000</td>\n",
       "      <td>0.398538</td>\n",
       "      <td>0.422473</td>\n",
       "      <td>-0.213044</td>\n",
       "      <td>-0.015990</td>\n",
       "      <td>-0.204105</td>\n",
       "      <td>-0.207758</td>\n",
       "    </tr>\n",
       "    <tr>\n",
       "      <th>sma_20</th>\n",
       "      <td>-0.056961</td>\n",
       "      <td>0.398538</td>\n",
       "      <td>1.000000</td>\n",
       "      <td>0.969849</td>\n",
       "      <td>-0.166281</td>\n",
       "      <td>0.004067</td>\n",
       "      <td>0.154776</td>\n",
       "      <td>0.189923</td>\n",
       "    </tr>\n",
       "    <tr>\n",
       "      <th>sma_50</th>\n",
       "      <td>-0.047021</td>\n",
       "      <td>0.422473</td>\n",
       "      <td>0.969849</td>\n",
       "      <td>1.000000</td>\n",
       "      <td>-0.188310</td>\n",
       "      <td>0.005657</td>\n",
       "      <td>0.188800</td>\n",
       "      <td>0.210641</td>\n",
       "    </tr>\n",
       "    <tr>\n",
       "      <th>rsi</th>\n",
       "      <td>0.218311</td>\n",
       "      <td>-0.213044</td>\n",
       "      <td>-0.166281</td>\n",
       "      <td>-0.188310</td>\n",
       "      <td>1.000000</td>\n",
       "      <td>0.024414</td>\n",
       "      <td>0.036124</td>\n",
       "      <td>0.017636</td>\n",
       "    </tr>\n",
       "    <tr>\n",
       "      <th>day_of_week</th>\n",
       "      <td>0.060449</td>\n",
       "      <td>-0.015990</td>\n",
       "      <td>0.004067</td>\n",
       "      <td>0.005657</td>\n",
       "      <td>0.024414</td>\n",
       "      <td>1.000000</td>\n",
       "      <td>-0.027084</td>\n",
       "      <td>-0.029321</td>\n",
       "    </tr>\n",
       "    <tr>\n",
       "      <th>month</th>\n",
       "      <td>0.031839</td>\n",
       "      <td>-0.204105</td>\n",
       "      <td>0.154776</td>\n",
       "      <td>0.188800</td>\n",
       "      <td>0.036124</td>\n",
       "      <td>-0.027084</td>\n",
       "      <td>1.000000</td>\n",
       "      <td>0.971211</td>\n",
       "    </tr>\n",
       "    <tr>\n",
       "      <th>quarter</th>\n",
       "      <td>0.022469</td>\n",
       "      <td>-0.207758</td>\n",
       "      <td>0.189923</td>\n",
       "      <td>0.210641</td>\n",
       "      <td>0.017636</td>\n",
       "      <td>-0.029321</td>\n",
       "      <td>0.971211</td>\n",
       "      <td>1.000000</td>\n",
       "    </tr>\n",
       "  </tbody>\n",
       "</table>\n",
       "</div>"
      ],
      "text/plain": [
       "                  returns_prev_day  volatility_20d  ...     month   quarter\n",
       "returns_prev_day          1.000000       -0.035972  ...  0.031839  0.022469\n",
       "volatility_20d           -0.035972        1.000000  ... -0.204105 -0.207758\n",
       "sma_20                   -0.056961        0.398538  ...  0.154776  0.189923\n",
       "sma_50                   -0.047021        0.422473  ...  0.188800  0.210641\n",
       "rsi                       0.218311       -0.213044  ...  0.036124  0.017636\n",
       "day_of_week               0.060449       -0.015990  ... -0.027084 -0.029321\n",
       "month                     0.031839       -0.204105  ...  1.000000  0.971211\n",
       "quarter                   0.022469       -0.207758  ...  0.971211  1.000000\n",
       "\n",
       "[8 rows x 8 columns]"
      ]
     },
     "execution_count": 15,
     "metadata": {},
     "output_type": "execute_result"
    }
   ],
   "source": [
    "correlation_matrix"
   ]
  },
  {
   "cell_type": "code",
   "execution_count": 16,
   "metadata": {},
   "outputs": [
    {
     "name": "stdout",
     "output_type": "stream",
     "text": [
      "\n",
      "3. Creando features adicionales...\n"
     ]
    }
   ],
   "source": [
    "# 3. FEATURE ENGINEERING MEJORADA\n",
    "print(\"\\n3. Creando features adicionales...\")\n",
    "\n",
    "def create_enhanced_features(df):\n",
    "    \"\"\"Crear features adicionales más predictivas\"\"\"\n",
    "    df_enhanced = df.copy()\n",
    "    \n",
    "    # Features de momentum\n",
    "    df_enhanced['sma_ratio'] = (df['close'] - df['sma_20']) / df['sma_20']\n",
    "    df_enhanced['sma_cross'] = np.where(df['sma_20'] > df['sma_50'], 1, 0)\n",
    "    \n",
    "    # Features de volatilidad\n",
    "    df_enhanced['volatility_ratio'] = df['volatility_20d'] / df['volatility_20d'].rolling(60).mean()\n",
    "    \n",
    "    # Features de volumen (si disponible)\n",
    "    if 'volume' in df.columns:\n",
    "        df_enhanced['volume_ratio'] = df['volume'] / df['volume'].rolling(20).mean()\n",
    "    \n",
    "    # Features de RSI\n",
    "    df_enhanced['rsi_oversold'] = np.where(df['rsi'] < 30, 1, 0)\n",
    "    df_enhanced['rsi_overbought'] = np.where(df['rsi'] > 70, 1, 0)\n",
    "    \n",
    "    # Features de returns múltiples\n",
    "    df_enhanced['returns_2d'] = df['close'].pct_change(2)\n",
    "    df_enhanced['returns_5d'] = df['close'].pct_change(5)\n",
    "    \n",
    "    return df_enhanced"
   ]
  },
  {
   "cell_type": "code",
   "execution_count": 17,
   "metadata": {},
   "outputs": [
    {
     "name": "stdout",
     "output_type": "stream",
     "text": [
      "Datos después de feature engineering: 242 muestras\n",
      "Features adicionales creadas: 7\n",
      "\n"
     ]
    }
   ],
   "source": [
    "# Aplicar feature engineering\n",
    "df_enhanced = create_enhanced_features(df_sorted)\n",
    "\n",
    "# Nuevas features\n",
    "enhanced_features = [\n",
    "    'returns_prev_day',\n",
    "    'volatility_20d',\n",
    "    'sma_20',\n",
    "    'sma_50',\n",
    "    'rsi',\n",
    "    'day_of_week',\n",
    "    'month',\n",
    "    'quarter',\n",
    "    'sma_ratio',\n",
    "    'sma_cross',\n",
    "    'volatility_ratio',\n",
    "    'rsi_oversold',\n",
    "    'rsi_overbought',\n",
    "    'returns_2d',\n",
    "    'returns_5d'\n",
    "]\n",
    "\n",
    "# Remover NaN\n",
    "df_clean = df_enhanced.dropna()\n",
    "\n",
    "# Nueva división temporal\n",
    "split_idx = int(len(df_clean) * 0.8)\n",
    "train_enhanced = df_clean.iloc[:split_idx]\n",
    "test_enhanced = df_clean.iloc[split_idx:]\n",
    "\n",
    "X_train_enh = train_enhanced[enhanced_features]\n",
    "y_train_enh = train_enhanced['target']\n",
    "X_test_enh = test_enhanced[enhanced_features]\n",
    "y_test_enh = test_enhanced['target']\n",
    "\n",
    "print(f\"Datos después de feature engineering: {len(df_clean)} muestras\")\n",
    "print(f\"Features adicionales creadas: {len(enhanced_features) - len(features)}\\n\")\n"
   ]
  },
  {
   "cell_type": "code",
   "execution_count": 18,
   "metadata": {},
   "outputs": [
    {
     "name": "stdout",
     "output_type": "stream",
     "text": [
      "4. Comparando múltiples algoritmos:\n",
      "\n",
      "--- RandomForest ---\n",
      "Accuracy: 0.7959\n",
      "AUC: 0.8545\n",
      "\n",
      "--- XGBoost ---\n",
      "Accuracy: 0.8980\n",
      "AUC: 0.9632\n",
      "\n",
      "--- LogisticRegression ---\n",
      "Accuracy: 0.6122\n",
      "AUC: 0.7642\n"
     ]
    }
   ],
   "source": [
    "# 4. COMPARACIÓN DE MÚLTIPLES ALGORITMOS\n",
    "print(\"4. Comparando múltiples algoritmos:\")\n",
    "\n",
    "models = {\n",
    "    'RandomForest': RandomForestClassifier(n_estimators=200, max_depth=15, random_state=42),\n",
    "    'XGBoost': XGBClassifier(n_estimators=200, max_depth=6, learning_rate=0.1, random_state=42),\n",
    "    'LogisticRegression': LogisticRegression(random_state=42, max_iter=1000)\n",
    "}\n",
    "\n",
    "results = {}\n",
    "\n",
    "for name, model in models.items():\n",
    "    print(f\"\\n--- {name} ---\")\n",
    "    \n",
    "    # Entrenar modelo\n",
    "    model.fit(X_train_enh, y_train_enh)\n",
    "    \n",
    "    # Predicciones\n",
    "    y_pred = model.predict(X_test_enh)\n",
    "    y_pred_proba = model.predict_proba(X_test_enh)[:, 1]\n",
    "    \n",
    "    # Métricas\n",
    "    accuracy = accuracy_score(y_test_enh, y_pred)\n",
    "    auc = roc_auc_score(y_test_enh, y_pred_proba)\n",
    "    \n",
    "    results[name] = {\n",
    "        'accuracy': accuracy,\n",
    "        'auc': auc,\n",
    "        'model': model\n",
    "    }\n",
    "    \n",
    "    print(f\"Accuracy: {accuracy:.4f}\")\n",
    "    print(f\"AUC: {auc:.4f}\")"
   ]
  },
  {
   "cell_type": "code",
   "execution_count": 19,
   "metadata": {},
   "outputs": [
    {
     "name": "stdout",
     "output_type": "stream",
     "text": [
      "\n",
      "5. Resumen de resultados:\n",
      "Mejor modelo: XGBoost\n",
      "Mejor AUC: 0.9632\n",
      "Accuracy: 0.8980\n"
     ]
    }
   ],
   "source": [
    "# 5. MEJOR MODELO\n",
    "print(\"\\n5. Resumen de resultados:\")\n",
    "best_model_name = max(results, key=lambda x: results[x]['auc'])\n",
    "best_model = results[best_model_name]['model']\n",
    "\n",
    "print(f\"Mejor modelo: {best_model_name}\")\n",
    "print(f\"Mejor AUC: {results[best_model_name]['auc']:.4f}\")\n",
    "print(f\"Accuracy: {results[best_model_name]['accuracy']:.4f}\")"
   ]
  },
  {
   "cell_type": "code",
   "execution_count": 20,
   "metadata": {},
   "outputs": [
    {
     "name": "stdout",
     "output_type": "stream",
     "text": [
      "\n",
      "6. Optimización de threshold para XGBoost:\n",
      "Threshold 0.30: F1=0.842, Accuracy=0.816\n",
      "Threshold 0.35: F1=0.842, Accuracy=0.816\n",
      "Threshold 0.40: F1=0.842, Accuracy=0.816\n",
      "Threshold 0.45: F1=0.873, Accuracy=0.857\n",
      "Threshold 0.50: F1=0.906, Accuracy=0.898\n",
      "Threshold 0.55: F1=0.906, Accuracy=0.898\n",
      "Threshold 0.60: F1=0.902, Accuracy=0.898\n",
      "Threshold 0.65: F1=0.902, Accuracy=0.898\n",
      "Threshold 0.70: F1=0.902, Accuracy=0.898\n",
      "Threshold 0.75: F1=0.902, Accuracy=0.898\n",
      "\n",
      "Mejor threshold: 0.50 (F1=0.906)\n"
     ]
    }
   ],
   "source": [
    "# 6. ANÁLISIS DE THRESHOLD ÓPTIMO\n",
    "print(f\"\\n6. Optimización de threshold para {best_model_name}:\")\n",
    "\n",
    "y_pred_proba_best = best_model.predict_proba(X_test_enh)[:, 1]\n",
    "\n",
    "# Probar diferentes thresholds\n",
    "thresholds = np.arange(0.3, 0.8, 0.05)\n",
    "best_threshold = 0.5\n",
    "best_f1 = 0\n",
    "\n",
    "for threshold in thresholds:\n",
    "    y_pred_thresh = (y_pred_proba_best >= threshold).astype(int)\n",
    "    \n",
    "    # Calcular F1-score\n",
    "    f1 = f1_score(y_test_enh, y_pred_thresh)\n",
    "    \n",
    "    if f1 > best_f1:\n",
    "        best_f1 = f1\n",
    "        best_threshold = threshold\n",
    "    \n",
    "    print(f\"Threshold {threshold:.2f}: F1={f1:.3f}, Accuracy={accuracy_score(y_test_enh, y_pred_thresh):.3f}\")\n",
    "\n",
    "print(f\"\\nMejor threshold: {best_threshold:.2f} (F1={best_f1:.3f})\")"
   ]
  },
  {
   "cell_type": "code",
   "execution_count": 21,
   "metadata": {},
   "outputs": [
    {
     "name": "stdout",
     "output_type": "stream",
     "text": [
      "\n",
      "7. Feature Importance - XGBoost:\n",
      "             feature  importance\n",
      "13        returns_2d    0.298045\n",
      "0   returns_prev_day    0.285958\n",
      "14        returns_5d    0.116695\n",
      "2             sma_20    0.057028\n",
      "5        day_of_week    0.055062\n",
      "4                rsi    0.045150\n",
      "1     volatility_20d    0.033294\n",
      "6              month    0.033087\n",
      "3             sma_50    0.029308\n",
      "10  volatility_ratio    0.025330\n"
     ]
    },
    {
     "data": {
      "image/png": "[encoded data removed]",
      "text/plain": [
       "<Figure size 1000x600 with 1 Axes>"
      ]
     },
     "metadata": {},
     "output_type": "display_data"
    }
   ],
   "source": [
    "# 7. FEATURE IMPORTANCE DEL MEJOR MODELO\n",
    "print(f\"\\n7. Feature Importance - {best_model_name}:\")\n",
    "if hasattr(best_model, 'feature_importances_'):\n",
    "    importance_df = pd.DataFrame({\n",
    "        'feature': enhanced_features,\n",
    "        'importance': best_model.feature_importances_\n",
    "    }).sort_values('importance', ascending=False)\n",
    "    \n",
    "    print(importance_df.head(10))\n",
    "    \n",
    "    # Gráfico de importancia\n",
    "    plt.figure(figsize=(10, 6))\n",
    "    plt.barh(importance_df['feature'][:10], importance_df['importance'][:10])\n",
    "    plt.title(f'Top 10 Features - {best_model_name}')\n",
    "    plt.xlabel('Importancia')\n",
    "    plt.tight_layout()\n",
    "    plt.show()"
   ]
  }
 ],
 "metadata": {
  "kernelspec": {
   "display_name": "PIV",
   "language": "python",
   "name": "python3"
  },
  "language_info": {
   "codemirror_mode": {
    "name": "ipython",
    "version": 3
   },
   "file_extension": ".py",
   "mimetype": "text/x-python",
   "name": "python",
   "nbconvert_exporter": "python",
   "pygments_lexer": "ipython3",
   "version": "3.13.2"
  }
 },
 "nbformat": 4,
 "nbformat_minor": 2
}
